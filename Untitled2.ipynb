{
  "cells": [
    {
      "cell_type": "markdown",
      "metadata": {
        "id": "view-in-github",
        "colab_type": "text"
      },
      "source": [
        "<a href=\"https://colab.research.google.com/github/A-Arhami/Daily-Water-Balance-Model/blob/main/Untitled2.ipynb\" target=\"_parent\"><img src=\"https://colab.research.google.com/assets/colab-badge.svg\" alt=\"Open In Colab\"/></a>"
      ]
    },
    {
      "cell_type": "code",
      "execution_count": null,
      "id": "8aa54240",
      "metadata": {
        "id": "8aa54240",
        "outputId": "abe28e2f-e19a-44d1-cd34-c2a030332c25"
      },
      "outputs": [
        {
          "name": "stdout",
          "output_type": "stream",
          "text": [
            "(14813, 20)\n"
          ]
        }
      ],
      "source": [
        "#import data\n",
        "import pandas as pd\n",
        "import math\n",
        "import statistics\n",
        "import numpy as np\n",
        "from scipy.optimize import minimize\n",
        "import matplotlib.pyplot as plt\n",
        "df_model=pd.read_csv(r\"C:\\Users\\Gcc\\Desktop\\Midtermwater\\Midterm_Exam.csv\")\n",
        "print(df_model.shape)"
      ]
    },
    {
      "cell_type": "code",
      "execution_count": null,
      "id": "a524ae64",
      "metadata": {
        "id": "a524ae64"
      },
      "outputs": [],
      "source": [
        "#Given parameters:a,Sb,Gamma,Kd,Kb, build the 5-parameter daily water balance model\n",
        "def model(x):\n",
        "    #Set parameters and initial storages\n",
        "    a=x[0]\n",
        "    Sb=x[1]\n",
        "    Gamma=x[2]\n",
        "    Kd=x[3]\n",
        "    Kb=x[4]\n",
        "    S0_initial=x[5]\n",
        "    Sd0_initial=x[6]\n",
        "    Sg0_initial=x[7]\n",
        "    #import data\n",
        "    df_data=df_model\n",
        "    df_results=df_data\n",
        "    df_results[\"Q_simulated\"]=\"\"\n",
        "    #set blank lists to save data\n",
        "    Psi=[]\n",
        "    m=[]\n",
        "    W=[]\n",
        "    R=[]\n",
        "    Y=[]\n",
        "    E=[]\n",
        "    Rd=[]\n",
        "    Qd=[]\n",
        "    S1=[]#ending storage in the soil\n",
        "    Sd1=[]# ending storage in the quick tank\n",
        "    Rg=[]\n",
        "    Qb=[]\n",
        "    Sg1=[]# ending storage in the groundwater tank\n",
        "    Q=[]\n",
        "#calculate for date 19630101 using initial S0,Sd0 and Sg0, that is, the first day\n",
        "    Psi.append(S0_initial/Sb)\n",
        "    if (S0_initial/Sb)<1:\n",
        "        m.append(Psi[0]*(2-a*Psi[0])/(2*(1-Psi[0])))\n",
        "        W.append((df_data.iat[1,3] +Sb*math.sqrt((m[0]+1)**2-2*a*m[0])-math.sqrt((df_data.iat[1,3]+(m[0]+1)*Sb)**2-\n",
        "                                                                   2*a*m[0]*Sb**2-2*a*Sb*df_data.iat[1,3]))/a)\n",
        "        R.append(df_data.iat[1,3]-W[0])\n",
        "        Y.append(S0_initial+W[0])\n",
        "        #evaporation: assume rainfall first, evaporation later\n",
        "        evaporation=(Y[0]/Sb)*((df_data.iat[1,4]+Sb-math.sqrt((df_data.iat[1,4]+Sb)**2-2*a*Sb*df_data.iat[1,4]))/a)\n",
        "        if (Y[0]/Sb)<1:\n",
        "            E.append((Y[0]/Sb)*evaporation)\n",
        "        else:\n",
        "            E.append(evaporation)\n",
        "        S1.append(Y[0]-E[0]) #above is the process for the soil\n",
        "        #Recharge to the surface storage tank;Rd\n",
        "        Rd.append(R[0]*Gamma)\n",
        "        Qd.append(Kd*(Rd[0]+Sd0_initial))\n",
        "        Sd1.append((1-Kd)*(Sd0_initial+Rd[0]))\n",
        "        #Recharge to the groundwater; Rg\n",
        "        Rg.append(R[0]*(1-Gamma))\n",
        "        Qb.append(Kb*(Rg[0]+Sg0_initial))\n",
        "        Sg1.append((1-Kb)*(Sg0_initial+Rg[0]))\n",
        "        #For Q\n",
        "        Q.append(Qd[0]+Qb[0])    \n",
        "    else:#(S0_initial/Sb)=1\n",
        "        m.append(0)\n",
        "        W.append(0)\n",
        "        R.append(df_data.iat[1,3]-W[0])\n",
        "        Y.append(S0_initial+W[0])\n",
        "        #evaporation: assume rainfall first, evaporation later\n",
        "        evaporation=(Y[0]/Sb)*((df_data.iat[1,4]+Sb-math.sqrt((df_data.iat[1,4]+Sb)**2-2*a*Sb*df_data.iat[1,4]))/a)\n",
        "        if (Y[0]/Sb)<1:\n",
        "            E.append((Y[0]/Sb)*evaporation)\n",
        "        else:\n",
        "            E.append(evaporation)\n",
        "        S1.append(Y[0]-E[0]) #above is the process for the soil\n",
        "        #Recharge to the surface storage tank;Rd\n",
        "        Rd.append(R[0]*Gamma)\n",
        "        Qd.append(Kd*(Rd[0]+Sd0_initial))\n",
        "        Sd1.append((1-Kd)*(Sd0_initial+Rd[0]))\n",
        "        #Recharge to the groundwater; Rg\n",
        "        Rg.append(R[0]*(1-Gamma))\n",
        "        Qb.append(Kb*(Rg[0]+Sg0_initial))\n",
        "        Sg1.append((1-Kb)*(Sg0_initial+Rg[0]))\n",
        "        #For Q\n",
        "        Q.append(Qd[0]+Qb[0])\n",
        "#iteration for the remaining days\n",
        "    for day in range(2921):\n",
        "        nextindex=day+1#nextindex=1\n",
        "        dataindex=day+2#dataindex=2\n",
        "        if df_data.iat[dataindex,3]>0:\n",
        "            if (S1[day]/Sb)<1:\n",
        "                Psi.append(S1[day]/Sb)#S0(day)=S1(day-1)\n",
        "                m.append(Psi[nextindex]*(2-a*Psi[nextindex])/(2*(1-Psi[nextindex])))\n",
        "                W.append((df_data.iat[dataindex,3] +Sb*math.sqrt((m[nextindex]+1)**2-2*a*m[nextindex])-\n",
        "                          math.sqrt((df_data.iat[dataindex,3]+(m[nextindex]+1)*Sb)**2-2*a*m[nextindex]*Sb**2-2*a*Sb*df_data.iat[dataindex,3]))/a)\n",
        "                R.append(df_data.iat[dataindex,3]-W[nextindex])\n",
        "                Y.append(S1[day]+W[nextindex])\n",
        "            #evaporation: assume rainfall first, evaporation later\n",
        "                Es=(df_data.iat[dataindex,4]+Sb-math.sqrt((df_data.iat[dataindex,4]+Sb)**2-2*a*Sb*df_data.iat[dataindex,4]))/a\n",
        "                if (Y[nextindex]/Sb)<1:\n",
        "                    E.append((Y[nextindex]/Sb)*Es)\n",
        "                else:\n",
        "                    E.append(Es)\n",
        "                S1.append(Y[nextindex]-E[nextindex]) #above is the process for the soil\n",
        "            #Recharge to the surface storage tank;Rd\n",
        "                Rd.append(R[nextindex]*Gamma)\n",
        "                Qd.append(Kd*(Rd[nextindex]+Sd1[day]))\n",
        "                Sd1.append((1-Kd)*(Sd1[day]+Rd[nextindex]))\n",
        "            #Recharge to the groundwater; Rg\n",
        "                Rg.append(R[nextindex]*(1-Gamma))\n",
        "                Qb.append(Kb*(Rg[nextindex]+Sg1[day]))\n",
        "                Sg1.append((1-Kb)*(Sg1[day]+Rg[nextindex]))\n",
        "            else:#S0=Sb\n",
        "                Psi.append(S1[day]/Sb)#S0(day)=S1(day-1)\n",
        "                m.append(0)\n",
        "                W.append(0)\n",
        "                R.append(df_data.iat[dataindex,3]-W[nextindex])\n",
        "                Y.append(S1[day]+W[nextindex])\n",
        "            #evaporation: assume rainfall first, evaporation later\n",
        "                Es=(df_data.iat[dataindex,4]+Sb-math.sqrt((df_data.iat[dataindex,4]+Sb)**2-2*a*Sb*df_data.iat[dataindex,4]))/a\n",
        "                if (Y[nextindex]/Sb)<1:\n",
        "                    E.append((Y[nextindex]/Sb)*Es)\n",
        "                else:\n",
        "                    E.append(Es)\n",
        "                S1.append(Y[nextindex]-E[nextindex]) #above is the process for the soil\n",
        "            #Recharge to the surface storage tank;Rd\n",
        "                Rd.append(R[nextindex]*Gamma)\n",
        "                Qd.append(Kd*(Rd[nextindex]+Sd1[day]))\n",
        "                Sd1.append((1-Kd)*(Sd1[day]+Rd[nextindex]))\n",
        "            #Recharge to the groundwater; Rg\n",
        "                Rg.append(R[nextindex]*(1-Gamma))\n",
        "                Qb.append(Kb*(Rg[nextindex]+Sg1[day]))\n",
        "                Sg1.append((1-Kb)*(Sg1[day]+Rg[nextindex]))\n",
        "        else:\n",
        "            Psi.append(S1[day]/Sb)\n",
        "            m.append(Psi[nextindex]*(2-a*Psi[nextindex])/(2*(1-Psi[nextindex])))\n",
        "            W.append(0)\n",
        "            R.append(0)\n",
        "            Y.append(S1[day]+W[nextindex])\n",
        "            Es=(df_data.iat[dataindex,4]+Sb-math.sqrt((df_data.iat[dataindex,4]+Sb)**2-2*a*Sb*df_data.iat[dataindex,4]))/a\n",
        "            if (Y[nextindex]/Sb)<1:\n",
        "                E.append((Y[nextindex]/Sb)*Es)\n",
        "            else:\n",
        "                E.append(Es)\n",
        "            E.append(evaporation)\n",
        "            S1.append(Y[nextindex]-E[nextindex]) #above is the process for the soil\n",
        "            #Recharge to the surface storage tank;Rd\n",
        "            Rd.append(0)\n",
        "            Qd.append(Kd*(Rd[nextindex]+Sd1[day]))\n",
        "            Sd1.append((1-Kd)*(Sd1[day]+Rd[nextindex]))\n",
        "            #Recharge to the groundwater; Rg\n",
        "            Rg.append(0)\n",
        "            Qb.append(Kb*(Rg[nextindex]+Sg1[day]))\n",
        "            Sg1.append((1-Kb)*(Sg1[day]+Rg[nextindex]))\n",
        "        #For Q\n",
        "        Q.append(Qd[nextindex]+Qb[nextindex])\n",
        "#add columns to raw data table and generate the new table for results\n",
        "    for i in range(2922):\n",
        "        df_results.iat[i+1,6]=Q[i]#add simulated Q to \"Q_simulated\" column\n",
        "    return df_results "
      ]
    },
    {
      "cell_type": "code",
      "execution_count": null,
      "id": "60282651",
      "metadata": {
        "id": "60282651"
      },
      "outputs": [],
      "source": [
        "#For model calibration\n",
        "def model_calibrate(x):\n",
        "    Q0=model(x)[\"Q\"].tolist()\n",
        "    Q0=Q0[1:]\n",
        "    Qm=model(x)[\"Q_simulated\"].tolist()\n",
        "    Qm=Qm[1:]\n",
        "    Q0mean=sum(Q0)/2922\n",
        "    updff=[]\n",
        "    lowdff=[]\n",
        "    for q in range(2921):\n",
        "        updff.append((Qm[q]-Q0[q])**2)\n",
        "        lowdff.append((Q0[q]-Q0mean)**2)\n",
        "    NSE=sum(updff)/sum(lowdff)-1\n",
        "    return NSE"
      ]
    },
    {
      "cell_type": "code",
      "execution_count": null,
      "id": "a164e9b7",
      "metadata": {
        "id": "a164e9b7"
      },
      "outputs": [],
      "source": [
        "#Set initial condition\n",
        "x0 = [0.1,50,0,0.14,0.1,0,0,0]"
      ]
    },
    {
      "cell_type": "code",
      "execution_count": null,
      "id": "91b41489",
      "metadata": {
        "id": "91b41489"
      },
      "outputs": [],
      "source": [
        "#Bounds\n",
        "bound_a=[0.01,1.99]\n",
        "bound_Sb=[50.00,1500.00]\n",
        "bound_Gamma=[0.00,1.00]\n",
        "bound_Kd=[0.14,1.00]\n",
        "bound_Kb=[0.00,0.14]\n",
        "bound_S0_initial=[0.00,1500.00]\n",
        "bound_Sd0_initial=[0.00,1000.00]\n",
        "bound_Sg0_initial=[0.00,1000.00]\n",
        "bnds=(bound_a,bound_Sb,bound_Gamma,bound_Kd,bound_Kb,bound_S0_initial,bound_Sd0_initial,bound_Sg0_initial)"
      ]
    },
    {
      "cell_type": "code",
      "execution_count": null,
      "id": "799251ff",
      "metadata": {
        "id": "799251ff"
      },
      "outputs": [],
      "source": [
        "#Constraints\n",
        "def constraint1(x):\n",
        "    return x[1]-x[5]\n",
        "con1={'type':'ineq','fun':constraint1}\n",
        "cons=[con1]"
      ]
    },
    {
      "cell_type": "code",
      "execution_count": null,
      "id": "cc103f2d",
      "metadata": {
        "id": "cc103f2d"
      },
      "outputs": [],
      "source": [
        "sol = minimize(model_calibrate,x0,bounds=bnds,constraints=cons)\n",
        "print(sol)"
      ]
    }
  ],
  "metadata": {
    "kernelspec": {
      "display_name": "Python 3",
      "language": "python",
      "name": "python3"
    },
    "language_info": {
      "codemirror_mode": {
        "name": "ipython",
        "version": 3
      },
      "file_extension": ".py",
      "mimetype": "text/x-python",
      "name": "python",
      "nbconvert_exporter": "python",
      "pygments_lexer": "ipython3",
      "version": "3.8.8"
    },
    "colab": {
      "provenance": [],
      "include_colab_link": true
    }
  },
  "nbformat": 4,
  "nbformat_minor": 5
}